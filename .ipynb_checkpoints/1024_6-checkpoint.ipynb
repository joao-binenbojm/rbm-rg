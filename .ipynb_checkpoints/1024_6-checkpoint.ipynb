{
 "cells": [
  {
   "cell_type": "code",
   "execution_count": 2,
   "metadata": {
    "executionInfo": {
     "elapsed": 367,
     "status": "ok",
     "timestamp": 1622222794033,
     "user": {
      "displayName": "carla binenbojm",
      "photoUrl": "",
      "userId": "17198214596129893864"
     },
     "user_tz": -60
    },
    "id": "N5J2fz2JUyfz"
   },
   "outputs": [],
   "source": [
    "import numpy as np\n",
    "import zipfile\n",
    "import os\n",
    "import pickle\n",
    "from utils import DBN, IsingModel1D, IsingModel2D"
   ]
  },
  {
   "cell_type": "code",
   "execution_count": null,
   "metadata": {
    "id": "UVLlXETkVNnI"
   },
   "outputs": [],
   "source": [
    "# # Code for simulating 2D data, storing it, and trainign deep belief network\n",
    "\n",
    "# # Defining sets of parameters\n",
    "# Ns = [256, 1024] # lattice parameter\n",
    "# Js = [0.42, 0.4407, 0.46] # coupling parameter\n",
    "# N_init = [10**6, int(1.5*10**7)] # number of initial samples in the 'burn-in' that are ignored\n",
    "# n_itrs = [10**6, 2*10**7] # number of iterations for simulation\n",
    "# N_ram = [2000, 130] # number of samples colab RAM can handle for a given N\n",
    "# n_components_list = [[64, 16, 4, 1], [256, 64, 16, 4]] # number of hidden units in each layer\n",
    "\n",
    "# # Iterating over different hyperparameters\n",
    "# for idx, N in enumerate(N):\n",
    "#   for J in Js:\n",
    "#     print('J = {}, N = {}'.format(idx,N))\n",
    "#     data_file_name = 'ising_data_' + str(N) + '_' + str(J) # name of data file to be saved\n",
    "#     model_file_name = 'dbn_' +  str(N) + '_' + str(J) + '.p' # name of model file to be saved\n",
    "#     my_zip = zipfile.Zipfile(data_file_name, 'w') # saving samples to a zip file\n",
    "#     # Simulating the model\n",
    "#     model = IsingModel2D(J=J, B=0, N=N) \n",
    "#     model.ising_metropolis(n_itrs=n_itrs[idx], init_cond=False) # simulating ising model\n",
    "#     pickle.dump(model.spin_tracker, open(data_file_name + '.p', 'wb')) # pickle data file\n",
    "#     my_zip.write(data_file_name + '.p') # add pickle to zip file\n",
    "#     os.remove(data_file_name + '.p') # remove original pickled file\n",
    "#     # Training DBN\n",
    "#     belief_net = DBN(n_rbms=4, n_components=n_components_list[idx], \\\n",
    "#                      learning_rates=[0.01,0.01,0.01,0.01])\n",
    "#     flat_data = model.spin_tracker.reshape((N_ram[idx],N*N)) # compress 2D data to vector\n",
    "#     belief.net.fit(flat_data) # fitting data \n",
    "#     # Saving trained DBN\n",
    "#     pickle.dump(belief_net, open(model_file_name, 'wb'))"
   ]
  },
  {
   "cell_type": "code",
   "execution_count": null,
   "metadata": {
    "colab": {
     "base_uri": "https://localhost:8080/"
    },
    "id": "tBsmh_iIcjlx",
    "outputId": "750a4489-d9b6-4f97-8dde-1f93e6d923a7"
   },
   "outputs": [
    {
     "name": "stdout",
     "output_type": "stream",
     "text": [
      "J = 0.42, N = 1024\n"
     ]
    },
    {
     "name": "stderr",
     "output_type": "stream",
     "text": [
      "  1%|▏         | 270937/20000000 [05:38<6:37:30, 827.20it/s]"
     ]
    }
   ],
   "source": [
    "# Code for simulating 2D data, storing it, and trainign deep belief network\n",
    "\n",
    "# Defining sets of parameters\n",
    "N = 1024 # lattice parameter\n",
    "J = 0.4407 # coupling parameter\n",
    "N_init = int(1.5*10**7) # number of initial samples in the 'burn-in' that are ignored\n",
    "n_itrs = 2*10**7 # number of iterations for simulation\n",
    "N_ram = 130 # number of samples colab RAM can handle for a given N\n",
    "n_components = [256, 64, 16, 4] # number of hidden units in each layer\n",
    "\n",
    "# Iterating over different hyperparameters\n",
    "print('J = {}, N = {}'.format(J,N))\n",
    "data_file_name = 'ising_data_' + str(N) + '_' + str(J) # name of data file to be saved\n",
    "# Simulating the model\n",
    "model = IsingModel2D(J=J, B=0, N=N) \n",
    "model.ising_metropolis(n_itrs=n_itrs, init_cond=False, N_init=N_init, N_store=N_ram) # simulating ising model\n",
    "pickle.dump(model.spin_tracker, open(data_file_name + '.p', 'wb')) # pickle data file"
   ]
  }
 ],
 "metadata": {
  "colab": {
   "collapsed_sections": [],
   "name": "1024_6.ipynb",
   "provenance": []
  },
  "kernelspec": {
   "display_name": "Python 3",
   "language": "python",
   "name": "python3"
  },
  "language_info": {
   "codemirror_mode": {
    "name": "ipython",
    "version": 3
   },
   "file_extension": ".py",
   "mimetype": "text/x-python",
   "name": "python",
   "nbconvert_exporter": "python",
   "pygments_lexer": "ipython3",
   "version": "3.8.5"
  }
 },
 "nbformat": 4,
 "nbformat_minor": 1
}
